{
 "cells": [
  {
   "cell_type": "code",
   "execution_count": 1,
   "metadata": {},
   "outputs": [],
   "source": [
    "import easyocr"
   ]
  },
  {
   "cell_type": "code",
   "execution_count": 2,
   "metadata": {},
   "outputs": [
    {
     "name": "stderr",
     "output_type": "stream",
     "text": [
      "CUDA not available - defaulting to CPU. Note: This module is much faster with a GPU.\n"
     ]
    }
   ],
   "source": [
    "# enter list of languages to be predicted (it'll download related dictionary for those languages)\n",
    "# go to https://pypi.org/project/easyocr/\n",
    "# go to supported languages link and find language code\n",
    "reader = easyocr.Reader(['en'])"
   ]
  },
  {
   "cell_type": "code",
   "execution_count": 3,
   "metadata": {
    "scrolled": true
   },
   "outputs": [
    {
     "name": "stdout",
     "output_type": "stream",
     "text": [
      "[([[396, 26], [622, 26], [622, 54], [396, 54]], 'A NIGHT OF TOLLS', 0.5964861104410997), ([[10, 53], [998, 53], [998, 84], [10, 84]], 'the evoluttons of the earth 4$ set forth in thts and the preceding sectton. For ths purpose the author has mtroduced', 0.27778536088110894), ([[21, 75], [949, 75], [949, 114], [21, 114]], 'parallef table. exhibiting on one side 4 Scale of ummalbfe 6egnng With the humblest unf ascending to the', 0.09925021783155384), ([[7, 104], [971, 104], [971, 140], [7, 140]], 'highest species: andon the other side the successive senes of rock formations in %hch their fossilferous remains', 0.23710863849131494), ([[10, 136], [304, 136], [304, 164], [10, 164]], 'hate been found up to the present', 0.5707108057073601), ([[396, 136], [526, 136], [526, 164], [396, 164]], 'feposits of the', 0.4494782568994939), ([[580, 136], [988, 136], [988, 164], [580, 164]], 'Objecttons hace been made t0 the correctness %f', 0.39985624458222874), ([[10, 162], [118, 162], [118, 188], [10, 188]], \"the authot's\", 0.5273137602436916), ([[206, 162], [700, 162], [700, 192], [206, 192]], 'scale and Ms dlssatton ef  mmals the (lef &f whvh', 0.1258365774824571), ([[736, 162], [960, 162], [960, 190], [736, 190]], '6e udverte  to 11 the ne (t', 0.1368657823854166), ([[12, 188], [984, 188], [984, 220], [12, 220]], 'sectton: but the tabl 1S essential 4S presentig at one (1e{\" 4n Outlne ef thc hypothests he has sought to establish', 0.16157548820032952), ([[10, 217], [392, 217], [392, 250], [10, 250]], 'scale ef amimal kingdom: ordev ef ammals 1', 0.14500385000017982), ([[388, 211], [1005, 211], [1005, 250], [388, 250]], 'ascending senes foetal human brain of rcks resembles. in Incertebratu:', 0.24800496482812676), ([[11, 249], [83, 249], [83, 269], [11, 269]], 'Bumalla', 0.23748858708179438), ([[77, 239], [389, 239], [389, 279], [77, 279]], 'Supetficiat feposits month attains;', 0.2602319125717791), ([[420, 244], [484, 244], [484, 270], [420, 270]], '66la8', 0.14925816732454897), ([[492, 246], [998, 246], [998, 272], [492, 272]], 'hatractet IRAASMUIAIIOA @F S #ECFES In the t(70', 0.15186518428297596), ([[10, 272], [240, 272], [240, 300], [10, 300]], 'Last Sect1ons W fiate yone', 0.2340302712086483), ([[238, 271], [936, 271], [936, 304], [238, 304]], 'tlousl tle e4tls seolostcal fstory fwst efthe s hges !4LS plvscal structur', 0.03680564687168658), ([[940, 274], [1008, 274], [1008, 298], [940, 298]], 'next of', 0.332448270619484), ([[300.41000317999044, 138.45600508798475], [401.8150293504513, 129.96288392351792], [402.58999682000956, 159.54399491201525], [301.1849706495487, 167.03711607648208]], 'superfical', 0.37543910460280955), ([[518.4789396203098, 137.4141973545267], [576.5268142019845, 131.3828389107299], [578.5210603796902, 159.5858026454733], [521.4731857980155, 166.6171610892701]], 'glb4', 0.8652273416519165), ([[694.2562854188427, 166.5587995863798], [739.4151675120601, 160.22040288585046], [741.7437145811573, 185.4412004136202], [696.5848324879399, 191.77959711414954]], 'cof', 0.3701714698504626), ([[118.15350102802535, 158.12190349528618], [207.95266558742694, 169.46918371461987], [202.84649897197465, 197.87809650471382], [113.04733441257306, 186.53081628538013]], 'analoges', 0.2535971442692273), ([[382.6027607015021, 245.34524533285406], [423.40823154386334, 242.21102799598722], [424.3972392984979, 269.65475466714594], [383.59176845613666, 271.7889720040128]], 'ful', 0.5110143151115702)]\n"
     ]
    }
   ],
   "source": [
    "# read text from image\n",
    "result = reader.readtext('nightoftoils.jpg')\n",
    "print(result)\n",
    "\n",
    "# note it'll specify two things: first - text position; second - text"
   ]
  },
  {
   "cell_type": "code",
   "execution_count": 4,
   "metadata": {
    "scrolled": true
   },
   "outputs": [
    {
     "name": "stdout",
     "output_type": "stream",
     "text": [
      "A NIGHT OF TOLLS\n",
      "the evoluttons of the earth 4$ set forth in thts and the preceding sectton. For ths purpose the author has mtroduced\n",
      "parallef table. exhibiting on one side 4 Scale of ummalbfe 6egnng With the humblest unf ascending to the\n",
      "highest species: andon the other side the successive senes of rock formations in %hch their fossilferous remains\n",
      "hate been found up to the present\n",
      "feposits of the\n",
      "Objecttons hace been made t0 the correctness %f\n",
      "the authot's\n",
      "scale and Ms dlssatton ef  mmals the (lef &f whvh\n",
      "6e udverte  to 11 the ne (t\n",
      "sectton: but the tabl 1S essential 4S presentig at one (1e{\" 4n Outlne ef thc hypothests he has sought to establish\n",
      "scale ef amimal kingdom: ordev ef ammals 1\n",
      "ascending senes foetal human brain of rcks resembles. in Incertebratu:\n",
      "Bumalla\n",
      "Supetficiat feposits month attains;\n",
      "66la8\n",
      "hatractet IRAASMUIAIIOA @F S #ECFES In the t(70\n",
      "Last Sect1ons W fiate yone\n",
      "tlousl tle e4tls seolostcal fstory fwst efthe s hges !4LS plvscal structur\n",
      "next of\n",
      "superfical\n",
      "glb4\n",
      "cof\n",
      "analoges\n",
      "ful\n",
      "\n"
     ]
    }
   ],
   "source": [
    "# consider only text. that means don't read first argument which is text position and read only text which is second argument\n",
    "text = ''\n",
    "for res in result:\n",
    "    text += res[1] + '\\n'\n",
    "\n",
    "print(text)"
   ]
  },
  {
   "cell_type": "code",
   "execution_count": null,
   "metadata": {},
   "outputs": [],
   "source": []
  }
 ],
 "metadata": {
  "kernelspec": {
   "display_name": "myImageKernel",
   "language": "python",
   "name": "myimagekernel"
  },
  "language_info": {
   "codemirror_mode": {
    "name": "ipython",
    "version": 3
   },
   "file_extension": ".py",
   "mimetype": "text/x-python",
   "name": "python",
   "nbconvert_exporter": "python",
   "pygments_lexer": "ipython3",
   "version": "3.7.4"
  }
 },
 "nbformat": 4,
 "nbformat_minor": 2
}
